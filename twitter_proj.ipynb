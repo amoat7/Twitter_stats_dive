{
 "metadata": {
  "language_info": {
   "codemirror_mode": {
    "name": "ipython",
    "version": 3
   },
   "file_extension": ".py",
   "mimetype": "text/x-python",
   "name": "python",
   "nbconvert_exporter": "python",
   "pygments_lexer": "ipython3",
   "version": "3.7.3-final"
  },
  "orig_nbformat": 2,
  "kernelspec": {
   "name": "python3",
   "display_name": "Python 3.7.3 64-bit ('base': conda)",
   "metadata": {
    "interpreter": {
     "hash": "eac3bb7cdc5f43df7129aade43a3634185f0f1d3ead87f0aaa8655e4c781e031"
    }
   }
  }
 },
 "nbformat": 4,
 "nbformat_minor": 2,
 "cells": [
  {
   "cell_type": "code",
   "execution_count": 7,
   "metadata": {},
   "outputs": [],
   "source": [
    "    from tweepy import OAuthHandler\n",
    "    from tweepy import API\n",
    "    from tweepy import Cursor\n",
    "    import credentials\n",
    "    import json"
   ]
  },
  {
   "cell_type": "code",
   "execution_count": 3,
   "metadata": {},
   "outputs": [],
   "source": [
    "class TwitterAuth():\n",
    "    \"\"\"\n",
    "    Class for authenticating twitter\n",
    "    \"\"\"\n",
    "\n",
    "    def __init__(self):\n",
    "        pass\n",
    "    \n",
    "    def authenticate_twitter(self):\n",
    "        auth = OAuthHandler(credentials.API_KEY, credentials.API_KEY_SECRET)\n",
    "        auth.set_access_token(credentials.ACCESS_TOKEN, credentials.ACCESS_TOKEN_SECRET)\n",
    "        return auth"
   ]
  },
  {
   "cell_type": "code",
   "execution_count": 13,
   "metadata": {},
   "outputs": [],
   "source": [
    "class TwitterClient():\n",
    "    \"\"\"\n",
    "    Class for connecting to twitter\n",
    "    \"\"\"\n",
    "    def __init__(self, tweet_file_name, search_term=None):\n",
    "        self.auth = TwitterAuth().authenticate_twitter()\n",
    "        self.twitter_client = API(self.auth)\n",
    "\n",
    "        self.search_term = search_term\n",
    "        self.tweet_file_name = tweet_file_name\n",
    "\n",
    "    def get_timeline_tweets(self, num_tweets):\n",
    "        for i, tweet in enumerate(Cursor(self.twitter_client.search, q=self.search_term).items(num_tweets)):\n",
    "             with open(self.tweet_file_name+str(i)+'.json', 'w') as tf:\n",
    "                 json.dump(tweet, tf, indent=4)"
   ]
  },
  {
   "cell_type": "code",
   "execution_count": 14,
   "metadata": {},
   "outputs": [],
   "source": [
    "mtn_client = TwitterClient(search_term='@MTNGhana', tweet_file_name = 'data/mtn/tweet')\n",
    "mtn_client.get_timeline_tweets(2000)"
   ]
  },
  {
   "cell_type": "code",
   "execution_count": null,
   "metadata": {},
   "outputs": [],
   "source": [
    "oscars_client = TwitterClient(search_term='@TheAcademy', tweet_file_name = 'data/oscars/tweet')\n",
    "oscars_client.get_timeline_tweets(2000)"
   ]
  },
  {
   "cell_type": "code",
   "execution_count": null,
   "metadata": {},
   "outputs": [],
   "source": [
    "lfc_client = TwitterClient(search_term='@LFC', tweet_file_name = 'data/lfc/tweet')\n",
    "lfc_client.get_timeline_tweets(2000)"
   ]
  },
  {
   "cell_type": "code",
   "execution_count": null,
   "metadata": {},
   "outputs": [],
   "source": [
    "pope_client = TwitterClient(search_term='@Pontifex', tweet_file_name = 'data/pope/tweet')\n",
    "pope_client.get_timeline_tweets(2000)"
   ]
  }
 ]
}